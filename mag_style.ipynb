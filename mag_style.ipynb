{
  "nbformat": 4,
  "nbformat_minor": 0,
  "metadata": {
    "colab": {
      "provenance": [],
      "authorship_tag": "ABX9TyO6ZhTGUZ0zj6tU7XFeIBvn",
      "include_colab_link": true
    },
    "kernelspec": {
      "name": "python3",
      "display_name": "Python 3"
    },
    "language_info": {
      "name": "python"
    }
  },
  "cells": [
    {
      "cell_type": "markdown",
      "metadata": {
        "id": "view-in-github",
        "colab_type": "text"
      },
      "source": [
        "<a href=\"https://colab.research.google.com/github/financieras/manadas/blob/main/mag_style.ipynb\" target=\"_parent\"><img src=\"https://colab.research.google.com/assets/colab-badge.svg\" alt=\"Open In Colab\"/></a>"
      ]
    },
    {
      "cell_type": "code",
      "execution_count": 8,
      "metadata": {
        "colab": {
          "base_uri": "https://localhost:8080/"
        },
        "id": "YTHPSHvYHco6",
        "outputId": "e8fc0cae-46a7-4fac-bdae-c7dd70c9cee2"
      },
      "outputs": [
        {
          "output_type": "stream",
          "name": "stdout",
          "text": [
            "\u001b[0;91mA\u001b[0m\n"
          ]
        }
      ],
      "source": [
        "import random\n",
        "\n",
        "# Constants\n",
        "RED = \"\\033[0;91m\"\n",
        "RESET = \"\\033[0m\"\n",
        "\n",
        "class Player:\n",
        "    def __init__(self, letter, x, y):\n",
        "        self.letter = letter\n",
        "        self.x = x\n",
        "        self.y = y\n",
        "        self.score = 0\n",
        "\n",
        "    def __str__(self):\n",
        "        return f'{RED}{self.letter}{RESET}'\n",
        "\n",
        "if __name__ == \"__main__\":\n",
        "    p = Player(\"A\",0,0)\n",
        "    print(p)"
      ]
    }
  ]
}