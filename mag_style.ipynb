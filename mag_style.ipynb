{
  "nbformat": 4,
  "nbformat_minor": 0,
  "metadata": {
    "colab": {
      "provenance": [],
      "authorship_tag": "ABX9TyOji7cLmT7gqa9im51HSTMl",
      "include_colab_link": true
    },
    "kernelspec": {
      "name": "python3",
      "display_name": "Python 3"
    },
    "language_info": {
      "name": "python"
    }
  },
  "cells": [
    {
      "cell_type": "markdown",
      "metadata": {
        "id": "view-in-github",
        "colab_type": "text"
      },
      "source": [
        "<a href=\"https://colab.research.google.com/github/financieras/manadas/blob/main/mag_style.ipynb\" target=\"_parent\"><img src=\"https://colab.research.google.com/assets/colab-badge.svg\" alt=\"Open In Colab\"/></a>"
      ]
    },
    {
      "cell_type": "code",
      "execution_count": 10,
      "metadata": {
        "colab": {
          "base_uri": "https://localhost:8080/"
        },
        "id": "YTHPSHvYHco6",
        "outputId": "a9b9f7db-47d1-45e9-fce9-7bb38bd47fef"
      },
      "outputs": [
        {
          "output_type": "stream",
          "name": "stdout",
          "text": [
            "\u001b[1;93mA\u001b[0m\n",
            "· · · · ·\n",
            "· · · · ·\n",
            "· · · · ·\n",
            "· · · · ·\n",
            "· · · · ·\n",
            "\n"
          ]
        }
      ],
      "source": [
        "import random\n",
        "\n",
        "# Constants\n",
        "RED = \"\\033[0;91m\"\n",
        "YELLOW = \"\\033[1;93m\"\n",
        "RESET = \"\\033[0m\"\n",
        "\n",
        "class Player:\n",
        "    def __init__(self, letter, x, y):\n",
        "        self.letter = letter\n",
        "        self.x = x\n",
        "        self.y = y\n",
        "        self.score = 0\n",
        "\n",
        "    def __str__(self):\n",
        "        return f'{YELLOW}{self.letter}{RESET}'\n",
        "\n",
        "\n",
        "class Food:\n",
        "    def __init__(self, amount):\n",
        "        self.amount = amount\n",
        "\n",
        "    def __str__(self):\n",
        "        return self.amount\n",
        "\n",
        "\n",
        "class Board:\n",
        "    def __init__(self, size):\n",
        "        self.size = size\n",
        "        self.board = [['·']*size for _ in range(size)]\n",
        "\n",
        "    def __str__(self):\n",
        "        res = \"\"\n",
        "        for row in self.board:\n",
        "            res += ' '.join([RED + e + RESET if e.isupper() else e for e in row]) + \"\\n\"\n",
        "        return res\n",
        "\n",
        "    def addPlayer(self, player):\n",
        "        if(player.x <= self.size and player.y <= self.size):\n",
        "            self.board[player.y][player.x] = player\n",
        "\n",
        "\n",
        "\n",
        "if __name__ == \"__main__\":\n",
        "    p = Player(\"A\",0,0)\n",
        "    print(p)\n",
        "    b = Board(5)\n",
        "    print(b)"
      ]
    },
    {
      "cell_type": "code",
      "source": [
        "class Tablero:\n",
        "    def __init__(self):\n",
        "        self.board = [[1,2,3],[4,5,6],[7,8,9]]\n",
        "    def __str__(self):\n",
        "        return \" \".join( map( str, myList ))\n",
        "\n",
        "t = Tablero()\n",
        "print(t)"
      ],
      "metadata": {
        "id": "GfznpZM4cUOw",
        "outputId": "8cb47308-5468-4dba-9845-24a995e12714",
        "colab": {
          "base_uri": "https://localhost:8080/"
        }
      },
      "execution_count": null,
      "outputs": [
        {
          "output_type": "stream",
          "name": "stdout",
          "text": [
            "[1, 2, 3] [4, 5, 6] [7, 8, 9]\n"
          ]
        }
      ]
    },
    {
      "cell_type": "code",
      "source": [
        "class Tablero:\n",
        "    def __init__(self):\n",
        "        self.board = [[1,2,3],[4,5,6],[7,8,9]]\n",
        "    def __str__(self):\n",
        "        res = \"\"\n",
        "        for row in self.board:\n",
        "            res += ' '.join(map(str, row)) + \"\\n\"\n",
        "        return res\n",
        "\n",
        "t = Tablero()\n",
        "print(t)"
      ],
      "metadata": {
        "id": "t74m0KUidPUD",
        "outputId": "5e4033b0-5b5d-4eb4-95ae-3b44079a2dfe",
        "colab": {
          "base_uri": "https://localhost:8080/"
        }
      },
      "execution_count": null,
      "outputs": [
        {
          "output_type": "stream",
          "name": "stdout",
          "text": [
            "1 2 3\n",
            "4 5 6\n",
            "7 8 9\n",
            "\n"
          ]
        }
      ]
    },
    {
      "cell_type": "code",
      "source": [
        "RED = \"\\033[0;91m\"\n",
        "RESET = \"\\033[0m\"\n",
        "\n",
        "class Tablero:\n",
        "    def __init__(self):\n",
        "        self.board = [[1,2,3],[4,5,6],[7,8,9]]\n",
        "    def __str__(self):\n",
        "        res = \"\"\n",
        "        for row in self.board:\n",
        "            res += ' '.join([RED + str(element) + RESET for element in row]) + \"\\n\"\n",
        "        return res\n",
        "\n",
        "t = Tablero()\n",
        "print(t)\n",
        "print()\n",
        "print(t.board)"
      ],
      "metadata": {
        "id": "3txMzetXeX2O",
        "outputId": "f9a9abd0-1bbb-4ced-ea7d-818b701c69cf",
        "colab": {
          "base_uri": "https://localhost:8080/"
        }
      },
      "execution_count": null,
      "outputs": [
        {
          "output_type": "stream",
          "name": "stdout",
          "text": [
            "\u001b[0;91m1\u001b[0m \u001b[0;91m2\u001b[0m \u001b[0;91m3\u001b[0m\n",
            "\u001b[0;91m4\u001b[0m \u001b[0;91m5\u001b[0m \u001b[0;91m6\u001b[0m\n",
            "\u001b[0;91m7\u001b[0m \u001b[0;91m8\u001b[0m \u001b[0;91m9\u001b[0m\n",
            "\n",
            "\n",
            "[[1, 2, 3], [4, 5, 6], [7, 8, 9]]\n"
          ]
        }
      ]
    },
    {
      "cell_type": "code",
      "source": [
        "RED = \"\\033[0;91m\"\n",
        "RESET = \"\\033[0m\"\n",
        "\n",
        "class Tablero:\n",
        "    def __init__(self):\n",
        "        self.board = [['1','·','3'],['·','A','C'],['·','8','B']]\n",
        "    def __str__(self):\n",
        "        res = \"\"\n",
        "        for row in self.board:\n",
        "            res += ' '.join([RED + e + RESET if e.isupper() else e for e in row]) + \"\\n\"\n",
        "        return res\n",
        "\n",
        "t = Tablero()\n",
        "print(t)\n",
        "print()\n",
        "print(t.board)"
      ],
      "metadata": {
        "id": "O5fF4o8-U016",
        "outputId": "0772fba5-6ac3-4833-e21a-585665803aca",
        "colab": {
          "base_uri": "https://localhost:8080/"
        }
      },
      "execution_count": 7,
      "outputs": [
        {
          "output_type": "stream",
          "name": "stdout",
          "text": [
            "1 · 3\n",
            "· \u001b[0;91mA\u001b[0m \u001b[0;91mC\u001b[0m\n",
            "· 8 \u001b[0;91mB\u001b[0m\n",
            "\n",
            "\n",
            "[['1', '·', '3'], ['·', 'A', 'C'], ['·', '8', 'B']]\n"
          ]
        }
      ]
    },
    {
      "cell_type": "code",
      "source": [
        "import random\n",
        "\n",
        "# Constants\n",
        "RED = \"\\033[0;31m\"\n",
        "RESET = \"\\033[0m\"\n",
        "\n",
        "class Player:\n",
        "    def __init__(self, letter, x, y):\n",
        "        self.letter = letter\n",
        "        self.x = x\n",
        "        self.y = y\n",
        "        self.score = 0\n",
        "\n",
        "    # players can only move one step at a time\n",
        "    def move(self):\n",
        "        pass\n",
        "\n",
        "    def __str__(self):\n",
        "        return f'\\033[0;{str(ord(self.letter) - 34)}m{self.letter}\\033[0m'\n",
        "\n",
        "\n",
        "class Food:\n",
        "    def __init__(self, amount):\n",
        "        self.amount = amount\n",
        "\n",
        "    def __str__(self):\n",
        "        return str(self.amount)\n",
        "\n",
        "\n",
        "class Board:\n",
        "    def __init__(self, size):\n",
        "        self.size = size\n",
        "        self.board = [['·']*size for _ in range(size)]\n",
        "        self.players = []\n",
        "        self.food = []\n",
        "\n",
        "    def addPlayer(self, p):\n",
        "        if (p.x <= self.size and p.y <= self.size):\n",
        "            self.board[p.y][p.x] = p\n",
        "            self.players.append(self.board[p.y][p.x])\n",
        "        else:\n",
        "            print(f\"{RED}Error:\\nPlayer position out of map{RESET}\")\n",
        "\n",
        "    def updatePlayer(self, p, x, y):\n",
        "        if (x <= self.size and y <= self.size):\n",
        "            self.board[p.y][p.x] = '·'\n",
        "            self.board[y][x] = p\n",
        "            p.x = x\n",
        "            p.y = y\n",
        "        else:\n",
        "            print(f\"{RED}Error:\\nPlayer position out of map{RESET}\")\n",
        "\n",
        "    def addFood(self, food_num):\n",
        "        for i in range(food_num):\n",
        "            food_x = random.randint(0, self.size-1)\n",
        "            food_y = random.randint(0, self.size-1)\n",
        "            while board.board[food_x][food_y] != '·':\n",
        "                food_x = random.randint(0, self.size - 1)\n",
        "                food_y = random.randint(0, self.size - 1)\n",
        "            self.board[food_y][food_x] = Food(random.randrange(1, 9))\n",
        "            self.food.append(self.board[food_y][food_x])\n",
        "\n",
        "    def printBoard(self):\n",
        "        for row in self.board:\n",
        "            print(*row)\n",
        "        print()\n",
        "\n",
        "\n",
        "def create_players(num, DIM, board):\n",
        "    i = 0\n",
        "    while (num):\n",
        "        jugador_x = random.randint(0, DIM-1)\n",
        "        jugador_y = random.randint(0, DIM-1)\n",
        "        while board.board[jugador_x][jugador_y] != '·':\n",
        "            jugador_x = random.randint(0, DIM-1)\n",
        "            jugador_y = random.randint(0, DIM-1)\n",
        "        board.addPlayer(Player(chr(65 + i), jugador_x, jugador_y))\n",
        "        num -= 1\n",
        "        i += 1\n",
        "\n",
        "\n",
        "if __name__ == \"__main__\":\n",
        "    size = 10\n",
        "    player_num = 5\n",
        "    food_num = 4\n",
        "    board = Board(size)\n",
        "    create_players(player_num, size, board)\n",
        "    board.addFood(food_num)\n",
        "    board.printBoard()"
      ],
      "metadata": {
        "id": "Bl1vzMJIZ0X_",
        "outputId": "3fea698d-ef62-447f-db70-1502abf517c2",
        "colab": {
          "base_uri": "https://localhost:8080/"
        }
      },
      "execution_count": 11,
      "outputs": [
        {
          "output_type": "stream",
          "name": "stdout",
          "text": [
            "· · · · · · · · · \u001b[0;31mA\u001b[0m\n",
            "· · · · 4 · · \u001b[0;33mC\u001b[0m · \u001b[0;34mD\u001b[0m\n",
            "· · · · · · 7 · \u001b[0;35mE\u001b[0m ·\n",
            "· · · 6 · · · · · ·\n",
            "· · · · · · · · · ·\n",
            "3 · · · · · · · · ·\n",
            "· · · · · · · · · ·\n",
            "· · · · · · · · · \u001b[0;32mB\u001b[0m\n",
            "· · · · · · · · · ·\n",
            "· · · · · · · · · ·\n",
            "\n"
          ]
        }
      ]
    }
  ]
}