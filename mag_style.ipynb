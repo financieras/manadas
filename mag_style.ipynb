{
  "nbformat": 4,
  "nbformat_minor": 0,
  "metadata": {
    "colab": {
      "provenance": [],
      "authorship_tag": "ABX9TyO9ID0zzSXENky88e+Aeooy",
      "include_colab_link": true
    },
    "kernelspec": {
      "name": "python3",
      "display_name": "Python 3"
    },
    "language_info": {
      "name": "python"
    }
  },
  "cells": [
    {
      "cell_type": "markdown",
      "metadata": {
        "id": "view-in-github",
        "colab_type": "text"
      },
      "source": [
        "<a href=\"https://colab.research.google.com/github/financieras/manadas/blob/main/mag_style.ipynb\" target=\"_parent\"><img src=\"https://colab.research.google.com/assets/colab-badge.svg\" alt=\"Open In Colab\"/></a>"
      ]
    },
    {
      "cell_type": "code",
      "execution_count": 6,
      "metadata": {
        "colab": {
          "base_uri": "https://localhost:8080/",
          "height": 226
        },
        "id": "YTHPSHvYHco6",
        "outputId": "34e68c1a-5be9-4e4a-a7ce-a63ab3fb7aff"
      },
      "outputs": [
        {
          "output_type": "stream",
          "name": "stdout",
          "text": [
            "\u001b[0;91mA\u001b[0m\n"
          ]
        },
        {
          "output_type": "error",
          "ename": "TypeError",
          "evalue": "ignored",
          "traceback": [
            "\u001b[0;31m---------------------------------------------------------------------------\u001b[0m",
            "\u001b[0;31mTypeError\u001b[0m                                 Traceback (most recent call last)",
            "\u001b[0;32m<ipython-input-6-48324c493c47>\u001b[0m in \u001b[0;36m<cell line: 36>\u001b[0;34m()\u001b[0m\n\u001b[1;32m     38\u001b[0m     \u001b[0mprint\u001b[0m\u001b[0;34m(\u001b[0m\u001b[0mp\u001b[0m\u001b[0;34m)\u001b[0m\u001b[0;34m\u001b[0m\u001b[0;34m\u001b[0m\u001b[0m\n\u001b[1;32m     39\u001b[0m     \u001b[0mb\u001b[0m \u001b[0;34m=\u001b[0m \u001b[0mBoard\u001b[0m\u001b[0;34m(\u001b[0m\u001b[0;36m5\u001b[0m\u001b[0;34m)\u001b[0m\u001b[0;34m\u001b[0m\u001b[0;34m\u001b[0m\u001b[0m\n\u001b[0;32m---> 40\u001b[0;31m     \u001b[0mprint\u001b[0m\u001b[0;34m(\u001b[0m\u001b[0mb\u001b[0m\u001b[0;34m)\u001b[0m\u001b[0;34m\u001b[0m\u001b[0;34m\u001b[0m\u001b[0m\n\u001b[0m",
            "\u001b[0;31mTypeError\u001b[0m: __str__ returned non-string (type list)"
          ]
        }
      ],
      "source": [
        "import random\n",
        "\n",
        "# Constants\n",
        "RED = \"\\033[0;91m\"\n",
        "RESET = \"\\033[0m\"\n",
        "\n",
        "class Player:\n",
        "    def __init__(self, letter, x, y):\n",
        "        self.letter = letter\n",
        "        self.x = x\n",
        "        self.y = y\n",
        "        self.score = 0\n",
        "\n",
        "    def __str__(self):\n",
        "        return f'{RED}{self.letter}{RESET}'\n",
        "\n",
        "\n",
        "class Food:\n",
        "    def __init__(self, amount):\n",
        "        self.amount = amount\n",
        "\n",
        "    def __str__(self):\n",
        "        return self.amount\n",
        "\n",
        "\n",
        "class Board:\n",
        "    def __init__(self, size):\n",
        "        self.size = size\n",
        "        self.board = [['·']*size for _ in range(size)]\n",
        "\n",
        "    def __str__(self):\n",
        "        #for row in self.board:\n",
        "        #    print(*row)\n",
        "        return self.board\n",
        "\n",
        "if __name__ == \"__main__\":\n",
        "    p = Player(\"A\",0,0)\n",
        "    print(p)\n",
        "    b = Board(5)\n",
        "    print(b)"
      ]
    },
    {
      "cell_type": "code",
      "source": [
        "class Tablero:\n",
        "    def __init__(self):\n",
        "        self.board = [[1,2,3],[4,5,6],[7,8,9]]\n",
        "    def __str__(self):\n",
        "        return \" \".join( map( str, myList ))\n",
        "\n",
        "t = Tablero()\n",
        "print(t)"
      ],
      "metadata": {
        "id": "GfznpZM4cUOw",
        "outputId": "8cb47308-5468-4dba-9845-24a995e12714",
        "colab": {
          "base_uri": "https://localhost:8080/"
        }
      },
      "execution_count": 10,
      "outputs": [
        {
          "output_type": "stream",
          "name": "stdout",
          "text": [
            "[1, 2, 3] [4, 5, 6] [7, 8, 9]\n"
          ]
        }
      ]
    },
    {
      "cell_type": "code",
      "source": [
        "class Tablero:\n",
        "    def __init__(self):\n",
        "        self.board = [[1,2,3],[4,5,6],[7,8,9]]\n",
        "    def __str__(self):\n",
        "        res = \"\"\n",
        "        for row in self.board:\n",
        "            res += ' '.join(map(str, row)) + \"\\n\"\n",
        "        return res\n",
        "\n",
        "t = Tablero()\n",
        "print(t)"
      ],
      "metadata": {
        "id": "t74m0KUidPUD",
        "outputId": "5e4033b0-5b5d-4eb4-95ae-3b44079a2dfe",
        "colab": {
          "base_uri": "https://localhost:8080/"
        }
      },
      "execution_count": 14,
      "outputs": [
        {
          "output_type": "stream",
          "name": "stdout",
          "text": [
            "1 2 3\n",
            "4 5 6\n",
            "7 8 9\n",
            "\n"
          ]
        }
      ]
    },
    {
      "cell_type": "code",
      "source": [
        "RED = \"\\033[0;91m\"\n",
        "RESET = \"\\033[0m\"\n",
        "\n",
        "class Tablero:\n",
        "    def __init__(self):\n",
        "        self.board = [[1,2,3],[4,5,6],[7,8,9]]\n",
        "    def __str__(self):\n",
        "        res = \"\"\n",
        "        for row in self.board:\n",
        "            res += ' '.join([RED + str(element) + RESET for element in row]) + \"\\n\"\n",
        "        return res\n",
        "\n",
        "t = Tablero()\n",
        "print(t)\n",
        "print()\n",
        "print(t.board)"
      ],
      "metadata": {
        "id": "3txMzetXeX2O",
        "outputId": "f9a9abd0-1bbb-4ced-ea7d-818b701c69cf",
        "colab": {
          "base_uri": "https://localhost:8080/"
        }
      },
      "execution_count": 23,
      "outputs": [
        {
          "output_type": "stream",
          "name": "stdout",
          "text": [
            "\u001b[0;91m1\u001b[0m \u001b[0;91m2\u001b[0m \u001b[0;91m3\u001b[0m\n",
            "\u001b[0;91m4\u001b[0m \u001b[0;91m5\u001b[0m \u001b[0;91m6\u001b[0m\n",
            "\u001b[0;91m7\u001b[0m \u001b[0;91m8\u001b[0m \u001b[0;91m9\u001b[0m\n",
            "\n",
            "\n",
            "[[1, 2, 3], [4, 5, 6], [7, 8, 9]]\n"
          ]
        }
      ]
    }
  ]
}